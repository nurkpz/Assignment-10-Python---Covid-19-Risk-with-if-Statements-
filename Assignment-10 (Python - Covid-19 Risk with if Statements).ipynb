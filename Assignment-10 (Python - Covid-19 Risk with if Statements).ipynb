{
 "cells": [
  {
   "cell_type": "code",
   "execution_count": null,
   "id": "e5a7916d",
   "metadata": {},
   "outputs": [],
   "source": [
    "age = bool(int(input(\"Are you a cigarette addict older than 75 years old? (Yes:1, No:0): \")))\n",
    "chronic = bool(int(input(\"Do you have a severe chronic disease? (Yes:1, No:0): \" )))\n",
    "immune = bool(int(input(\"Is your immune system too weak? (Yes:1, No:0): \" )))\n",
    "risk = age or chronic or immune\n",
    "if risk :\n",
    "    print(\"You are in risky group\")\n",
    "else :  \n",
    "    print(\"You are not in risky group\")"
   ]
  }
 ],
 "metadata": {
  "kernelspec": {
   "display_name": "Python 3 (ipykernel)",
   "language": "python",
   "name": "python3"
  },
  "language_info": {
   "codemirror_mode": {
    "name": "ipython",
    "version": 3
   },
   "file_extension": ".py",
   "mimetype": "text/x-python",
   "name": "python",
   "nbconvert_exporter": "python",
   "pygments_lexer": "ipython3",
   "version": "3.9.12"
  }
 },
 "nbformat": 4,
 "nbformat_minor": 5
}
